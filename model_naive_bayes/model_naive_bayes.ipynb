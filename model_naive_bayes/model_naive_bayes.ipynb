{
 "cells": [
  {
   "cell_type": "markdown",
   "id": "293f17e3-12d7-42f5-99bd-e08ac64533f4",
   "metadata": {},
   "source": [
    "# Modeling: Naive Bayes"
   ]
  },
  {
   "cell_type": "code",
   "execution_count": 17,
   "id": "4ac43fd1-9e4b-4083-9768-3aa3ccc7b9d6",
   "metadata": {},
   "outputs": [],
   "source": [
    "import pandas as pd\n",
    "import matplotlib.pyplot as plt\n",
    "from eda_functions import split_data\n",
    "\n",
    "from sklearn.pipeline import Pipeline\n",
    "from sklearn.feature_extraction.text import CountVectorizer\n",
    "from sklearn.naive_bayes import MultinomialNB\n",
    "from sklearn.model_selection import GridSearchCV"
   ]
  },
  {
   "cell_type": "markdown",
   "id": "749632cd-329e-48ad-a401-dc29d4fe40a9",
   "metadata": {},
   "source": [
    "## Attack"
   ]
  },
  {
   "cell_type": "code",
   "execution_count": 5,
   "id": "5b80e9ca-a40a-47c9-8433-8f9a46e4f21c",
   "metadata": {},
   "outputs": [
    {
     "name": "stdout",
     "output_type": "stream",
     "text": [
      "<class 'pandas.core.frame.DataFrame'>\n",
      "Int64Index: 115563 entries, 37675 to 699897151\n",
      "Data columns (total 2 columns):\n",
      " #   Column   Non-Null Count   Dtype \n",
      "---  ------   --------------   ----- \n",
      " 0   comment  115563 non-null  object\n",
      " 1   target   115563 non-null  int64 \n",
      "dtypes: int64(1), object(1)\n",
      "memory usage: 2.6+ MB\n"
     ]
    },
    {
     "data": {
      "text/html": [
       "<div>\n",
       "<style scoped>\n",
       "    .dataframe tbody tr th:only-of-type {\n",
       "        vertical-align: middle;\n",
       "    }\n",
       "\n",
       "    .dataframe tbody tr th {\n",
       "        vertical-align: top;\n",
       "    }\n",
       "\n",
       "    .dataframe thead th {\n",
       "        text-align: right;\n",
       "    }\n",
       "</style>\n",
       "<table border=\"1\" class=\"dataframe\">\n",
       "  <thead>\n",
       "    <tr style=\"text-align: right;\">\n",
       "      <th></th>\n",
       "      <th>comment</th>\n",
       "      <th>target</th>\n",
       "    </tr>\n",
       "    <tr>\n",
       "      <th>rev_id</th>\n",
       "      <th></th>\n",
       "      <th></th>\n",
       "    </tr>\n",
       "  </thead>\n",
       "  <tbody>\n",
       "    <tr>\n",
       "      <th>37675</th>\n",
       "      <td>This is not creative  Those are the dictionar...</td>\n",
       "      <td>0</td>\n",
       "    </tr>\n",
       "    <tr>\n",
       "      <th>44816</th>\n",
       "      <td>the term standard model is itself less NPOV...</td>\n",
       "      <td>0</td>\n",
       "    </tr>\n",
       "    <tr>\n",
       "      <th>49851</th>\n",
       "      <td>True or false the situation as of March 2002...</td>\n",
       "      <td>0</td>\n",
       "    </tr>\n",
       "  </tbody>\n",
       "</table>\n",
       "</div>"
      ],
      "text/plain": [
       "                                                  comment  target\n",
       "rev_id                                                           \n",
       "37675    This is not creative  Those are the dictionar...       0\n",
       "44816      the term standard model is itself less NPOV...       0\n",
       "49851     True or false the situation as of March 2002...       0"
      ]
     },
     "execution_count": 5,
     "metadata": {},
     "output_type": "execute_result"
    }
   ],
   "source": [
    "# Load data\n",
    "df_attack = pd.read_csv('../data/attack_clean.csv', index_col='rev_id')\n",
    "df_attack.info()\n",
    "df_attack.head(3)"
   ]
  },
  {
   "cell_type": "code",
   "execution_count": 38,
   "id": "694116ad-de28-4ee9-b0e1-35c9e3237716",
   "metadata": {},
   "outputs": [],
   "source": [
    "# Split into training/testing\n",
    "# Use custom function to balance classes by downsampling (training data only)\n",
    "\n",
    "X_train, X_test, y_train, y_test = split_data(\n",
    "    data=df_attack,\n",
    "    test_size=5_000,\n",
    "    train_size=15_000,\n",
    "    pct_positive=0.5)"
   ]
  },
  {
   "cell_type": "code",
   "execution_count": 39,
   "id": "30a43696-a732-41f1-934b-92699f1541f8",
   "metadata": {},
   "outputs": [
    {
     "data": {
      "text/html": [
       "<div>\n",
       "<style scoped>\n",
       "    .dataframe tbody tr th:only-of-type {\n",
       "        vertical-align: middle;\n",
       "    }\n",
       "\n",
       "    .dataframe tbody tr th {\n",
       "        vertical-align: top;\n",
       "    }\n",
       "\n",
       "    .dataframe thead th {\n",
       "        text-align: right;\n",
       "    }\n",
       "</style>\n",
       "<table border=\"1\" class=\"dataframe\">\n",
       "  <thead>\n",
       "    <tr style=\"text-align: right;\">\n",
       "      <th></th>\n",
       "      <th>Train (n=15000)</th>\n",
       "      <th>Test (n=5000)</th>\n",
       "    </tr>\n",
       "  </thead>\n",
       "  <tbody>\n",
       "    <tr>\n",
       "      <th>0</th>\n",
       "      <td>0.5</td>\n",
       "      <td>0.862</td>\n",
       "    </tr>\n",
       "    <tr>\n",
       "      <th>1</th>\n",
       "      <td>0.5</td>\n",
       "      <td>0.138</td>\n",
       "    </tr>\n",
       "  </tbody>\n",
       "</table>\n",
       "</div>"
      ],
      "text/plain": [
       "   Train (n=15000)  Test (n=5000)\n",
       "0              0.5          0.862\n",
       "1              0.5          0.138"
      ]
     },
     "execution_count": 39,
     "metadata": {},
     "output_type": "execute_result"
    }
   ],
   "source": [
    "# Check number of observations and class proportions \n",
    "pd.DataFrame({\n",
    "    f'Train (n={y_train.shape[0]})': y_train.value_counts(normalize=True),\n",
    "    f'Test (n={y_test.shape[0]})': y_test.value_counts(normalize=True)})"
   ]
  },
  {
   "cell_type": "code",
   "execution_count": 40,
   "id": "b5d7e650-0d05-4e11-9803-8e4cc14e50a2",
   "metadata": {},
   "outputs": [
    {
     "name": "stdout",
     "output_type": "stream",
     "text": [
      "Train:  0.8905\n",
      "Test:  0.8646\n"
     ]
    }
   ],
   "source": [
    "# Start with a basic pipeline and see how it performs\n",
    "attack_pipe = Pipeline([\n",
    "    ('cvec', CountVectorizer()),\n",
    "    ('nb', MultinomialNB())\n",
    "])\n",
    "\n",
    "attack_pipe.fit(X_train, y_train)\n",
    "\n",
    "print('Train: ', round(attack_pipe.score(X_train, y_train), 4))\n",
    "print('Test: ', round(attack_pipe.score(X_test, y_test), 4))"
   ]
  },
  {
   "cell_type": "code",
   "execution_count": 21,
   "id": "98326b54-f6ac-4b78-ab7c-7648b5f311f8",
   "metadata": {},
   "outputs": [],
   "source": [
    "# Grid search over some cvec parameters to see if we can do better\n",
    "attack_params = {\n",
    "    'cvec__stop_words': [None, 'english'],\n",
    "    'cvec__ngram_range': [(1, 1), (1, 2), (2, 2)]                         \n",
    "}\n",
    "\n",
    "attack_gs = GridSearchCV(attack_pipe, attack_params, cv=3)"
   ]
  },
  {
   "cell_type": "code",
   "execution_count": 22,
   "id": "05791f0f-d454-4ae3-9c57-459727c8089b",
   "metadata": {},
   "outputs": [
    {
     "name": "stdout",
     "output_type": "stream",
     "text": [
      "Wall time: 43.6 s\n"
     ]
    },
    {
     "data": {
      "text/plain": [
       "GridSearchCV(cv=3,\n",
       "             estimator=Pipeline(steps=[('cvec', CountVectorizer()),\n",
       "                                       ('nb', MultinomialNB())]),\n",
       "             param_grid={'cvec__ngram_range': [(1, 1), (1, 2), (2, 2)],\n",
       "                         'cvec__stop_words': [None, 'english']})"
      ]
     },
     "execution_count": 22,
     "metadata": {},
     "output_type": "execute_result"
    }
   ],
   "source": [
    "%%time\n",
    "attack_gs.fit(X_train, y_train)"
   ]
  },
  {
   "cell_type": "code",
   "execution_count": 26,
   "id": "04bc7938-cc85-4e6d-aa52-09eb6e0d3428",
   "metadata": {},
   "outputs": [
    {
     "name": "stdout",
     "output_type": "stream",
     "text": [
      "Best score of 0.836\n",
      "with params {'cvec__ngram_range': (1, 1), 'cvec__stop_words': None}\n"
     ]
    }
   ],
   "source": [
    "print(f'Best score of {attack_gs.best_score_}')\n",
    "print(f'with params {attack_gs.best_params_}')"
   ]
  },
  {
   "cell_type": "code",
   "execution_count": 41,
   "id": "ffd07693-6192-4e58-9a76-a0b093541d49",
   "metadata": {},
   "outputs": [],
   "source": [
    "# So basically the defaults.\n",
    "# Let's try this with character ngrams split at word boundaries.\n",
    "attack_params = {\n",
    "    'cvec__analyzer': ['char_wb'],\n",
    "    'cvec__ngram_range': [(2, 2), (3, 3), (4, 4), (5, 5)]\n",
    "}\n",
    "\n",
    "attack_gs = GridSearchCV(attack_pipe, attack_params, cv=3)"
   ]
  },
  {
   "cell_type": "code",
   "execution_count": 42,
   "id": "52549c6a-436a-4430-922d-b15936922c26",
   "metadata": {},
   "outputs": [
    {
     "name": "stdout",
     "output_type": "stream",
     "text": [
      "Wall time: 1min 3s\n"
     ]
    },
    {
     "data": {
      "text/plain": [
       "GridSearchCV(cv=3,\n",
       "             estimator=Pipeline(steps=[('cvec', CountVectorizer()),\n",
       "                                       ('nb', MultinomialNB())]),\n",
       "             param_grid={'cvec__analyzer': ['char_wb'],\n",
       "                         'cvec__ngram_range': [(2, 2), (3, 3), (4, 4), (5, 5)]})"
      ]
     },
     "execution_count": 42,
     "metadata": {},
     "output_type": "execute_result"
    }
   ],
   "source": [
    "%%time\n",
    "attack_gs.fit(X_train, y_train)"
   ]
  },
  {
   "cell_type": "code",
   "execution_count": 45,
   "id": "adb8a288-b889-4e79-897f-6c4f1b57d5f0",
   "metadata": {},
   "outputs": [
    {
     "name": "stdout",
     "output_type": "stream",
     "text": [
      "Best score of 0.8285333333333332\n",
      "with params {'cvec__analyzer': 'char_wb', 'cvec__ngram_range': (5, 5)}\n"
     ]
    }
   ],
   "source": [
    "print(f'Best score of {attack_gs.best_score_}')\n",
    "print(f'with params {attack_gs.best_params_}')"
   ]
  },
  {
   "cell_type": "code",
   "execution_count": 46,
   "id": "dcad40d8-b55b-4572-b474-716ab9179a65",
   "metadata": {},
   "outputs": [],
   "source": [
    "# So what was the best Naive Bayes model? The default."
   ]
  }
 ],
 "metadata": {
  "kernelspec": {
   "display_name": "Python 3",
   "language": "python",
   "name": "python3"
  },
  "language_info": {
   "codemirror_mode": {
    "name": "ipython",
    "version": 3
   },
   "file_extension": ".py",
   "mimetype": "text/x-python",
   "name": "python",
   "nbconvert_exporter": "python",
   "pygments_lexer": "ipython3",
   "version": "3.8.8"
  }
 },
 "nbformat": 4,
 "nbformat_minor": 5
}
