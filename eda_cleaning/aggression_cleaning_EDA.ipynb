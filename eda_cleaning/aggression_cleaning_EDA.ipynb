{
 "cells": [
  {
   "cell_type": "code",
   "execution_count": 1,
   "id": "866dfdd2-2936-4dd6-829a-2d64c358d6d3",
   "metadata": {},
   "outputs": [],
   "source": [
    "# Imports\n",
    "import pandas as pd\n",
    "import numpy as np\n",
    "import matplotlib.pyplot as plt\n",
    "import seaborn as sns\n",
    "\n",
    "from sklearn.feature_extraction.text import CountVectorizer, TfidfVectorizer"
   ]
  },
  {
   "cell_type": "code",
   "execution_count": 2,
   "id": "1a698b94-0f6d-42a4-a981-4849ed6af79a",
   "metadata": {},
   "outputs": [
    {
     "data": {
      "text/html": [
       "<div>\n",
       "<style scoped>\n",
       "    .dataframe tbody tr th:only-of-type {\n",
       "        vertical-align: middle;\n",
       "    }\n",
       "\n",
       "    .dataframe tbody tr th {\n",
       "        vertical-align: top;\n",
       "    }\n",
       "\n",
       "    .dataframe thead th {\n",
       "        text-align: right;\n",
       "    }\n",
       "</style>\n",
       "<table border=\"1\" class=\"dataframe\">\n",
       "  <thead>\n",
       "    <tr style=\"text-align: right;\">\n",
       "      <th></th>\n",
       "      <th>rev_id</th>\n",
       "      <th>comment</th>\n",
       "      <th>year</th>\n",
       "      <th>logged_in</th>\n",
       "      <th>ns</th>\n",
       "      <th>sample</th>\n",
       "      <th>split</th>\n",
       "    </tr>\n",
       "  </thead>\n",
       "  <tbody>\n",
       "    <tr>\n",
       "      <th>0</th>\n",
       "      <td>37675</td>\n",
       "      <td>`-NEWLINE_TOKENThis is not ``creative``.  Thos...</td>\n",
       "      <td>2002</td>\n",
       "      <td>True</td>\n",
       "      <td>article</td>\n",
       "      <td>random</td>\n",
       "      <td>train</td>\n",
       "    </tr>\n",
       "    <tr>\n",
       "      <th>1</th>\n",
       "      <td>44816</td>\n",
       "      <td>`NEWLINE_TOKENNEWLINE_TOKEN:: the term ``stand...</td>\n",
       "      <td>2002</td>\n",
       "      <td>True</td>\n",
       "      <td>article</td>\n",
       "      <td>random</td>\n",
       "      <td>train</td>\n",
       "    </tr>\n",
       "    <tr>\n",
       "      <th>2</th>\n",
       "      <td>49851</td>\n",
       "      <td>NEWLINE_TOKENNEWLINE_TOKENTrue or false, the s...</td>\n",
       "      <td>2002</td>\n",
       "      <td>True</td>\n",
       "      <td>article</td>\n",
       "      <td>random</td>\n",
       "      <td>train</td>\n",
       "    </tr>\n",
       "    <tr>\n",
       "      <th>3</th>\n",
       "      <td>89320</td>\n",
       "      <td>Next, maybe you could work on being less cond...</td>\n",
       "      <td>2002</td>\n",
       "      <td>True</td>\n",
       "      <td>article</td>\n",
       "      <td>random</td>\n",
       "      <td>dev</td>\n",
       "    </tr>\n",
       "    <tr>\n",
       "      <th>4</th>\n",
       "      <td>93890</td>\n",
       "      <td>This page will need disambiguation.</td>\n",
       "      <td>2002</td>\n",
       "      <td>True</td>\n",
       "      <td>article</td>\n",
       "      <td>random</td>\n",
       "      <td>train</td>\n",
       "    </tr>\n",
       "  </tbody>\n",
       "</table>\n",
       "</div>"
      ],
      "text/plain": [
       "   rev_id                                            comment  year  logged_in  \\\n",
       "0   37675  `-NEWLINE_TOKENThis is not ``creative``.  Thos...  2002       True   \n",
       "1   44816  `NEWLINE_TOKENNEWLINE_TOKEN:: the term ``stand...  2002       True   \n",
       "2   49851  NEWLINE_TOKENNEWLINE_TOKENTrue or false, the s...  2002       True   \n",
       "3   89320   Next, maybe you could work on being less cond...  2002       True   \n",
       "4   93890               This page will need disambiguation.   2002       True   \n",
       "\n",
       "        ns  sample  split  \n",
       "0  article  random  train  \n",
       "1  article  random  train  \n",
       "2  article  random  train  \n",
       "3  article  random    dev  \n",
       "4  article  random  train  "
      ]
     },
     "execution_count": 2,
     "metadata": {},
     "output_type": "execute_result"
    }
   ],
   "source": [
    "agg_comments_df = pd.read_csv('../data/aggression_annotated_comments.tsv', sep='\\t')\n",
    "agg_comments_df.head()"
   ]
  },
  {
   "cell_type": "code",
   "execution_count": 3,
   "id": "b461a2ef-53c9-4ef9-bdd1-e0662fd99f36",
   "metadata": {},
   "outputs": [
    {
     "data": {
      "text/html": [
       "<div>\n",
       "<style scoped>\n",
       "    .dataframe tbody tr th:only-of-type {\n",
       "        vertical-align: middle;\n",
       "    }\n",
       "\n",
       "    .dataframe tbody tr th {\n",
       "        vertical-align: top;\n",
       "    }\n",
       "\n",
       "    .dataframe thead th {\n",
       "        text-align: right;\n",
       "    }\n",
       "</style>\n",
       "<table border=\"1\" class=\"dataframe\">\n",
       "  <thead>\n",
       "    <tr style=\"text-align: right;\">\n",
       "      <th></th>\n",
       "      <th>rev_id</th>\n",
       "      <th>worker_id</th>\n",
       "      <th>aggression</th>\n",
       "      <th>aggression_score</th>\n",
       "    </tr>\n",
       "  </thead>\n",
       "  <tbody>\n",
       "    <tr>\n",
       "      <th>0</th>\n",
       "      <td>37675</td>\n",
       "      <td>1362</td>\n",
       "      <td>1.0</td>\n",
       "      <td>-1.0</td>\n",
       "    </tr>\n",
       "    <tr>\n",
       "      <th>1</th>\n",
       "      <td>37675</td>\n",
       "      <td>2408</td>\n",
       "      <td>0.0</td>\n",
       "      <td>1.0</td>\n",
       "    </tr>\n",
       "    <tr>\n",
       "      <th>2</th>\n",
       "      <td>37675</td>\n",
       "      <td>1493</td>\n",
       "      <td>0.0</td>\n",
       "      <td>0.0</td>\n",
       "    </tr>\n",
       "    <tr>\n",
       "      <th>3</th>\n",
       "      <td>37675</td>\n",
       "      <td>1439</td>\n",
       "      <td>0.0</td>\n",
       "      <td>0.0</td>\n",
       "    </tr>\n",
       "    <tr>\n",
       "      <th>4</th>\n",
       "      <td>37675</td>\n",
       "      <td>170</td>\n",
       "      <td>0.0</td>\n",
       "      <td>0.0</td>\n",
       "    </tr>\n",
       "  </tbody>\n",
       "</table>\n",
       "</div>"
      ],
      "text/plain": [
       "   rev_id  worker_id  aggression  aggression_score\n",
       "0   37675       1362         1.0              -1.0\n",
       "1   37675       2408         0.0               1.0\n",
       "2   37675       1493         0.0               0.0\n",
       "3   37675       1439         0.0               0.0\n",
       "4   37675        170         0.0               0.0"
      ]
     },
     "execution_count": 3,
     "metadata": {},
     "output_type": "execute_result"
    }
   ],
   "source": [
    "agg_annot_df = pd.read_csv('../data/aggression_annotations.tsv', sep='\\t')\n",
    "agg_annot_df.head()"
   ]
  },
  {
   "cell_type": "code",
   "execution_count": 4,
   "id": "5bb5328d-2ce9-4497-8ba7-6d7462e0f7d5",
   "metadata": {},
   "outputs": [],
   "source": [
    "# drop worker_id column\n",
    "agg_annot_df.drop(columns='worker_id', inplace=True)"
   ]
  },
  {
   "cell_type": "code",
   "execution_count": 5,
   "id": "283c0728-60bd-41d0-8086-f5c04e05956c",
   "metadata": {},
   "outputs": [
    {
     "data": {
      "text/plain": [
       "rev_id              0\n",
       "aggression          0\n",
       "aggression_score    0\n",
       "dtype: int64"
      ]
     },
     "execution_count": 5,
     "metadata": {},
     "output_type": "execute_result"
    }
   ],
   "source": [
    "agg_annot_df.isnull().sum()"
   ]
  },
  {
   "cell_type": "code",
   "execution_count": 6,
   "id": "11be77ae-3a0b-4ede-9602-36ce9f7fd13e",
   "metadata": {},
   "outputs": [
    {
     "data": {
      "text/html": [
       "<div>\n",
       "<style scoped>\n",
       "    .dataframe tbody tr th:only-of-type {\n",
       "        vertical-align: middle;\n",
       "    }\n",
       "\n",
       "    .dataframe tbody tr th {\n",
       "        vertical-align: top;\n",
       "    }\n",
       "\n",
       "    .dataframe thead th {\n",
       "        text-align: right;\n",
       "    }\n",
       "</style>\n",
       "<table border=\"1\" class=\"dataframe\">\n",
       "  <thead>\n",
       "    <tr style=\"text-align: right;\">\n",
       "      <th></th>\n",
       "      <th>aggression</th>\n",
       "      <th>aggression_score</th>\n",
       "    </tr>\n",
       "    <tr>\n",
       "      <th>rev_id</th>\n",
       "      <th></th>\n",
       "      <th></th>\n",
       "    </tr>\n",
       "  </thead>\n",
       "  <tbody>\n",
       "    <tr>\n",
       "      <th>37675</th>\n",
       "      <td>0.100000</td>\n",
       "      <td>0.000000</td>\n",
       "    </tr>\n",
       "    <tr>\n",
       "      <th>44816</th>\n",
       "      <td>0.000000</td>\n",
       "      <td>0.111111</td>\n",
       "    </tr>\n",
       "    <tr>\n",
       "      <th>49851</th>\n",
       "      <td>0.000000</td>\n",
       "      <td>0.100000</td>\n",
       "    </tr>\n",
       "    <tr>\n",
       "      <th>89320</th>\n",
       "      <td>0.444444</td>\n",
       "      <td>-0.444444</td>\n",
       "    </tr>\n",
       "    <tr>\n",
       "      <th>93890</th>\n",
       "      <td>0.000000</td>\n",
       "      <td>0.333333</td>\n",
       "    </tr>\n",
       "  </tbody>\n",
       "</table>\n",
       "</div>"
      ],
      "text/plain": [
       "        aggression  aggression_score\n",
       "rev_id                              \n",
       "37675     0.100000          0.000000\n",
       "44816     0.000000          0.111111\n",
       "49851     0.000000          0.100000\n",
       "89320     0.444444         -0.444444\n",
       "93890     0.000000          0.333333"
      ]
     },
     "execution_count": 6,
     "metadata": {},
     "output_type": "execute_result"
    }
   ],
   "source": [
    "# create a new dataframe to calculate the mean of the 'aggression' for each comment\n",
    "agg_1_df = agg_annot_df.groupby(['rev_id']).mean()\n",
    "agg_1_df.head()"
   ]
  },
  {
   "cell_type": "code",
   "execution_count": 7,
   "id": "1b3724b0-4530-4262-820c-38013ff3a65c",
   "metadata": {},
   "outputs": [],
   "source": [
    "# identify as aggressive if at least five reviewers reported the comment to be aggressive\n",
    "agg_1_df['label'] = agg_1_df['aggression'].map(lambda x: 1 if x>= 0.5 else 0)"
   ]
  },
  {
   "cell_type": "code",
   "execution_count": 8,
   "id": "2fcaeb96-8348-4412-bbbf-8f3ffe3be1f2",
   "metadata": {},
   "outputs": [
    {
     "data": {
      "text/plain": [
       "0    0.853121\n",
       "1    0.146879\n",
       "Name: label, dtype: float64"
      ]
     },
     "execution_count": 8,
     "metadata": {},
     "output_type": "execute_result"
    }
   ],
   "source": [
    "agg_1_df['label'].value_counts(normalize=True)"
   ]
  },
  {
   "cell_type": "markdown",
   "id": "fc4308aa-975d-484b-bcf1-90dd64063db6",
   "metadata": {},
   "source": [
    "This identified 14.7% of the comments to be aggressive and 85.3% to be non-aggressive."
   ]
  },
  {
   "cell_type": "code",
   "execution_count": 9,
   "id": "7f31df0a-a10d-45cb-b21d-4f616eeaa88f",
   "metadata": {},
   "outputs": [
    {
     "data": {
      "text/html": [
       "<div>\n",
       "<style scoped>\n",
       "    .dataframe tbody tr th:only-of-type {\n",
       "        vertical-align: middle;\n",
       "    }\n",
       "\n",
       "    .dataframe tbody tr th {\n",
       "        vertical-align: top;\n",
       "    }\n",
       "\n",
       "    .dataframe thead th {\n",
       "        text-align: right;\n",
       "    }\n",
       "</style>\n",
       "<table border=\"1\" class=\"dataframe\">\n",
       "  <thead>\n",
       "    <tr style=\"text-align: right;\">\n",
       "      <th></th>\n",
       "      <th>aggression</th>\n",
       "      <th>aggression_score</th>\n",
       "    </tr>\n",
       "    <tr>\n",
       "      <th>rev_id</th>\n",
       "      <th></th>\n",
       "      <th></th>\n",
       "    </tr>\n",
       "  </thead>\n",
       "  <tbody>\n",
       "    <tr>\n",
       "      <th>37675</th>\n",
       "      <td>1.0</td>\n",
       "      <td>0.0</td>\n",
       "    </tr>\n",
       "    <tr>\n",
       "      <th>44816</th>\n",
       "      <td>0.0</td>\n",
       "      <td>1.0</td>\n",
       "    </tr>\n",
       "    <tr>\n",
       "      <th>49851</th>\n",
       "      <td>0.0</td>\n",
       "      <td>1.0</td>\n",
       "    </tr>\n",
       "    <tr>\n",
       "      <th>89320</th>\n",
       "      <td>4.0</td>\n",
       "      <td>-4.0</td>\n",
       "    </tr>\n",
       "    <tr>\n",
       "      <th>93890</th>\n",
       "      <td>0.0</td>\n",
       "      <td>3.0</td>\n",
       "    </tr>\n",
       "  </tbody>\n",
       "</table>\n",
       "</div>"
      ],
      "text/plain": [
       "        aggression  aggression_score\n",
       "rev_id                              \n",
       "37675          1.0               0.0\n",
       "44816          0.0               1.0\n",
       "49851          0.0               1.0\n",
       "89320          4.0              -4.0\n",
       "93890          0.0               3.0"
      ]
     },
     "execution_count": 9,
     "metadata": {},
     "output_type": "execute_result"
    }
   ],
   "source": [
    "# create a new dataframe to calculate the total score of the 'aggression score' for each comment\n",
    "agg_2_df = agg_annot_df.groupby(['rev_id']).sum()\n",
    "agg_2_df.head()"
   ]
  },
  {
   "cell_type": "code",
   "execution_count": 10,
   "id": "67f85148-298e-473a-b455-69de92f4229b",
   "metadata": {},
   "outputs": [],
   "source": [
    "# identify as aggressive if the total score is -5 or less for 'aggressive score'\n",
    "agg_2_df['label'] = agg_2_df['aggression_score'].map(lambda x: 1 if x<= -6 else 0)"
   ]
  },
  {
   "cell_type": "code",
   "execution_count": 11,
   "id": "52e46a64-ef4f-4217-96cf-461189bdedcd",
   "metadata": {},
   "outputs": [
    {
     "data": {
      "text/plain": [
       "0    0.816664\n",
       "1    0.183336\n",
       "Name: label, dtype: float64"
      ]
     },
     "execution_count": 11,
     "metadata": {},
     "output_type": "execute_result"
    }
   ],
   "source": [
    "agg_2_df['label'].value_counts(normalize=True)"
   ]
  },
  {
   "cell_type": "markdown",
   "id": "1d91f2fc-9177-490b-acab-564f047b7fa2",
   "metadata": {},
   "source": [
    "This identified 18.3% of comments to be aggressive and 81.7% to be non-aggressive.\n",
    "\n",
    "Setting the threshold of the score to -6 would label a comment to be aggressive if at least t six people determined the comment to be aggressive, three people determined the comment to be very aggressive, or a combination of scores that would lead to a total score of -6."
   ]
  },
  {
   "cell_type": "code",
   "execution_count": 12,
   "id": "c69c0a79-2dea-4c08-94b2-98b2d718b15b",
   "metadata": {},
   "outputs": [
    {
     "data": {
      "text/plain": [
       "10    56207\n",
       "9     29118\n",
       "8      7404\n",
       "19     6892\n",
       "20     6181\n",
       "18     3587\n",
       "29     1375\n",
       "28     1336\n",
       "17     1205\n",
       "27      771\n",
       "30      713\n",
       "26      364\n",
       "16      326\n",
       "25      133\n",
       "15       90\n",
       "24       39\n",
       "14       34\n",
       "23       24\n",
       "22       13\n",
       "12       12\n",
       "13       11\n",
       "11        7\n",
       "31        4\n",
       "36        4\n",
       "39        4\n",
       "37        3\n",
       "21        2\n",
       "34        1\n",
       "35        1\n",
       "38        1\n",
       "45        1\n",
       "46        1\n",
       "Name: rev_id, dtype: int64"
      ]
     },
     "execution_count": 12,
     "metadata": {},
     "output_type": "execute_result"
    }
   ],
   "source": [
    "# check the number of rev_ids for each comment\n",
    "agg_annot_df['rev_id'].value_counts().value_counts()"
   ]
  },
  {
   "cell_type": "markdown",
   "id": "41676cad-09c7-4cc3-a79d-872756feddea",
   "metadata": {},
   "source": [
    "We will identify \"aggression\" if at least half of the reviewers reported the comment to be aggressive. This is based on the 'aggression' column with the value of 1 being aggression was detected by the reviewer and 0 if the comment was perceived as neutral or positive by the reviewer. The label column that was created based on the sum of the 'aggression score' will not be a good indicator since the number of reviewers can vastly differ for each comment and there is a risk of reviewers inflating the results."
   ]
  },
  {
   "cell_type": "code",
   "execution_count": 13,
   "id": "c56a3785-c4b2-487b-9010-0d1a9cb25f91",
   "metadata": {},
   "outputs": [
    {
     "data": {
      "text/html": [
       "<div>\n",
       "<style scoped>\n",
       "    .dataframe tbody tr th:only-of-type {\n",
       "        vertical-align: middle;\n",
       "    }\n",
       "\n",
       "    .dataframe tbody tr th {\n",
       "        vertical-align: top;\n",
       "    }\n",
       "\n",
       "    .dataframe thead th {\n",
       "        text-align: right;\n",
       "    }\n",
       "</style>\n",
       "<table border=\"1\" class=\"dataframe\">\n",
       "  <thead>\n",
       "    <tr style=\"text-align: right;\">\n",
       "      <th></th>\n",
       "      <th>rev_id</th>\n",
       "      <th>comment</th>\n",
       "      <th>year</th>\n",
       "      <th>logged_in</th>\n",
       "      <th>ns</th>\n",
       "      <th>sample</th>\n",
       "      <th>split</th>\n",
       "      <th>aggression</th>\n",
       "      <th>aggression_score</th>\n",
       "      <th>label</th>\n",
       "    </tr>\n",
       "  </thead>\n",
       "  <tbody>\n",
       "    <tr>\n",
       "      <th>0</th>\n",
       "      <td>37675</td>\n",
       "      <td>`-NEWLINE_TOKENThis is not ``creative``.  Thos...</td>\n",
       "      <td>2002</td>\n",
       "      <td>True</td>\n",
       "      <td>article</td>\n",
       "      <td>random</td>\n",
       "      <td>train</td>\n",
       "      <td>0.100000</td>\n",
       "      <td>0.000000</td>\n",
       "      <td>0</td>\n",
       "    </tr>\n",
       "    <tr>\n",
       "      <th>1</th>\n",
       "      <td>44816</td>\n",
       "      <td>`NEWLINE_TOKENNEWLINE_TOKEN:: the term ``stand...</td>\n",
       "      <td>2002</td>\n",
       "      <td>True</td>\n",
       "      <td>article</td>\n",
       "      <td>random</td>\n",
       "      <td>train</td>\n",
       "      <td>0.000000</td>\n",
       "      <td>0.111111</td>\n",
       "      <td>0</td>\n",
       "    </tr>\n",
       "    <tr>\n",
       "      <th>2</th>\n",
       "      <td>49851</td>\n",
       "      <td>NEWLINE_TOKENNEWLINE_TOKENTrue or false, the s...</td>\n",
       "      <td>2002</td>\n",
       "      <td>True</td>\n",
       "      <td>article</td>\n",
       "      <td>random</td>\n",
       "      <td>train</td>\n",
       "      <td>0.000000</td>\n",
       "      <td>0.100000</td>\n",
       "      <td>0</td>\n",
       "    </tr>\n",
       "    <tr>\n",
       "      <th>3</th>\n",
       "      <td>89320</td>\n",
       "      <td>Next, maybe you could work on being less cond...</td>\n",
       "      <td>2002</td>\n",
       "      <td>True</td>\n",
       "      <td>article</td>\n",
       "      <td>random</td>\n",
       "      <td>dev</td>\n",
       "      <td>0.444444</td>\n",
       "      <td>-0.444444</td>\n",
       "      <td>0</td>\n",
       "    </tr>\n",
       "    <tr>\n",
       "      <th>4</th>\n",
       "      <td>93890</td>\n",
       "      <td>This page will need disambiguation.</td>\n",
       "      <td>2002</td>\n",
       "      <td>True</td>\n",
       "      <td>article</td>\n",
       "      <td>random</td>\n",
       "      <td>train</td>\n",
       "      <td>0.000000</td>\n",
       "      <td>0.333333</td>\n",
       "      <td>0</td>\n",
       "    </tr>\n",
       "  </tbody>\n",
       "</table>\n",
       "</div>"
      ],
      "text/plain": [
       "   rev_id                                            comment  year  logged_in  \\\n",
       "0   37675  `-NEWLINE_TOKENThis is not ``creative``.  Thos...  2002       True   \n",
       "1   44816  `NEWLINE_TOKENNEWLINE_TOKEN:: the term ``stand...  2002       True   \n",
       "2   49851  NEWLINE_TOKENNEWLINE_TOKENTrue or false, the s...  2002       True   \n",
       "3   89320   Next, maybe you could work on being less cond...  2002       True   \n",
       "4   93890               This page will need disambiguation.   2002       True   \n",
       "\n",
       "        ns  sample  split  aggression  aggression_score  label  \n",
       "0  article  random  train    0.100000          0.000000      0  \n",
       "1  article  random  train    0.000000          0.111111      0  \n",
       "2  article  random  train    0.000000          0.100000      0  \n",
       "3  article  random    dev    0.444444         -0.444444      0  \n",
       "4  article  random  train    0.000000          0.333333      0  "
      ]
     },
     "execution_count": 13,
     "metadata": {},
     "output_type": "execute_result"
    }
   ],
   "source": [
    "aggression_df = agg_comments_df.merge(agg_1_df, how='left', on='rev_id')\n",
    "aggression_df.head()"
   ]
  },
  {
   "cell_type": "code",
   "execution_count": 14,
   "id": "247d2e24-5d00-4b12-a1d0-5b0d712a0deb",
   "metadata": {},
   "outputs": [],
   "source": [
    "# create a function to remove the 'NEWLINE_TOKEN' and non-alphanumeric text\n",
    "def clean_alnum(text):\n",
    "    if 'NEWLINE_TOKEN' in text:\n",
    "        text = text.replace('NEWLINE_TOKEN','')\n",
    "    for char in text:\n",
    "        if char.isalnum() == False and char != ' ':\n",
    "            text = text.replace(char,'')\n",
    "    return text"
   ]
  },
  {
   "cell_type": "code",
   "execution_count": 15,
   "id": "0bb75884-edd0-4f52-bb4a-8e56ef5e7181",
   "metadata": {},
   "outputs": [],
   "source": [
    "aggression_df['comment'] = aggression_df['comment'].apply(clean_alnum)"
   ]
  },
  {
   "cell_type": "code",
   "execution_count": 16,
   "id": "7fab6205-221d-4f88-86bc-1a8a5e228187",
   "metadata": {},
   "outputs": [
    {
     "data": {
      "text/html": [
       "<div>\n",
       "<style scoped>\n",
       "    .dataframe tbody tr th:only-of-type {\n",
       "        vertical-align: middle;\n",
       "    }\n",
       "\n",
       "    .dataframe tbody tr th {\n",
       "        vertical-align: top;\n",
       "    }\n",
       "\n",
       "    .dataframe thead th {\n",
       "        text-align: right;\n",
       "    }\n",
       "</style>\n",
       "<table border=\"1\" class=\"dataframe\">\n",
       "  <thead>\n",
       "    <tr style=\"text-align: right;\">\n",
       "      <th></th>\n",
       "      <th>rev_id</th>\n",
       "      <th>comment</th>\n",
       "      <th>year</th>\n",
       "      <th>logged_in</th>\n",
       "      <th>ns</th>\n",
       "      <th>sample</th>\n",
       "      <th>split</th>\n",
       "      <th>aggression</th>\n",
       "      <th>aggression_score</th>\n",
       "      <th>label</th>\n",
       "    </tr>\n",
       "  </thead>\n",
       "  <tbody>\n",
       "    <tr>\n",
       "      <th>0</th>\n",
       "      <td>37675</td>\n",
       "      <td>This is not creative  Those are the dictionary...</td>\n",
       "      <td>2002</td>\n",
       "      <td>True</td>\n",
       "      <td>article</td>\n",
       "      <td>random</td>\n",
       "      <td>train</td>\n",
       "      <td>0.100000</td>\n",
       "      <td>0.000000</td>\n",
       "      <td>0</td>\n",
       "    </tr>\n",
       "    <tr>\n",
       "      <th>1</th>\n",
       "      <td>44816</td>\n",
       "      <td>the term standard model is itself less NPOV t...</td>\n",
       "      <td>2002</td>\n",
       "      <td>True</td>\n",
       "      <td>article</td>\n",
       "      <td>random</td>\n",
       "      <td>train</td>\n",
       "      <td>0.000000</td>\n",
       "      <td>0.111111</td>\n",
       "      <td>0</td>\n",
       "    </tr>\n",
       "    <tr>\n",
       "      <th>2</th>\n",
       "      <td>49851</td>\n",
       "      <td>True or false the situation as of March 2002 w...</td>\n",
       "      <td>2002</td>\n",
       "      <td>True</td>\n",
       "      <td>article</td>\n",
       "      <td>random</td>\n",
       "      <td>train</td>\n",
       "      <td>0.000000</td>\n",
       "      <td>0.100000</td>\n",
       "      <td>0</td>\n",
       "    </tr>\n",
       "    <tr>\n",
       "      <th>3</th>\n",
       "      <td>89320</td>\n",
       "      <td>Next maybe you could work on being less conde...</td>\n",
       "      <td>2002</td>\n",
       "      <td>True</td>\n",
       "      <td>article</td>\n",
       "      <td>random</td>\n",
       "      <td>dev</td>\n",
       "      <td>0.444444</td>\n",
       "      <td>-0.444444</td>\n",
       "      <td>0</td>\n",
       "    </tr>\n",
       "    <tr>\n",
       "      <th>4</th>\n",
       "      <td>93890</td>\n",
       "      <td>This page will need disambiguation</td>\n",
       "      <td>2002</td>\n",
       "      <td>True</td>\n",
       "      <td>article</td>\n",
       "      <td>random</td>\n",
       "      <td>train</td>\n",
       "      <td>0.000000</td>\n",
       "      <td>0.333333</td>\n",
       "      <td>0</td>\n",
       "    </tr>\n",
       "  </tbody>\n",
       "</table>\n",
       "</div>"
      ],
      "text/plain": [
       "   rev_id                                            comment  year  logged_in  \\\n",
       "0   37675  This is not creative  Those are the dictionary...  2002       True   \n",
       "1   44816   the term standard model is itself less NPOV t...  2002       True   \n",
       "2   49851  True or false the situation as of March 2002 w...  2002       True   \n",
       "3   89320   Next maybe you could work on being less conde...  2002       True   \n",
       "4   93890                This page will need disambiguation   2002       True   \n",
       "\n",
       "        ns  sample  split  aggression  aggression_score  label  \n",
       "0  article  random  train    0.100000          0.000000      0  \n",
       "1  article  random  train    0.000000          0.111111      0  \n",
       "2  article  random  train    0.000000          0.100000      0  \n",
       "3  article  random    dev    0.444444         -0.444444      0  \n",
       "4  article  random  train    0.000000          0.333333      0  "
      ]
     },
     "execution_count": 16,
     "metadata": {},
     "output_type": "execute_result"
    }
   ],
   "source": [
    "aggression_df.head()"
   ]
  },
  {
   "cell_type": "code",
   "execution_count": 17,
   "id": "cf0d5030-ab03-4b98-a2ca-a026ad8e6f95",
   "metadata": {},
   "outputs": [
    {
     "data": {
      "text/plain": [
       "Thank you for experimenting with  Wikipedia Your test worked and it has been reverted or removed Please use the sandbox for any other tests you may want to do Take a look at the welcome page to learn more about contributing to our encyclopedia        21\n",
       "Please do not add nonsense to Wikipedia It is considered vandalism If you would like to experiment use the sandbox Thank you                                                                                                                               11\n",
       "                                                                                                                                                                                                                                                           10\n",
       "                                                                                                                                                                                                                                                           10\n",
       "The Graceful SlickIs non other than an ungraceful dick                                                                                                                                                                                                     10\n",
       "Thank you for experimenting with  Wikipedia Your test worked and it has been reverted or removed Please use the sandbox for any other tests you may want to do Take a look at the welcome page to learn more about contributing to our encyclopedia        10\n",
       " Please stop If you continue to vandalize Wikipedia you will be blocked from editing                                                                                                                                                                        9\n",
       " Please stop If you continue to vandalize Wikipedia you will be blocked from editing                                                                                                                                                                        8\n",
       "Thank you for experimenting with  Wikipedia Your test worked and it has been reverted or removed Please use the sandbox for any other tests you may want to do Take a look at the welcome page to learn more about contributing to our encyclopedia         8\n",
       "Please do not add nonsense to Wikipedia It is considered vandalism If you would like to experiment use the sandbox Thank you                                                                                                                                7\n",
       "Name: comment, dtype: int64"
      ]
     },
     "execution_count": 17,
     "metadata": {},
     "output_type": "execute_result"
    }
   ],
   "source": [
    "# review most common comments (occuring more than three times)\n",
    "aggression_df['comment'].value_counts().sort_values(ascending=False)[:10]"
   ]
  },
  {
   "cell_type": "code",
   "execution_count": 18,
   "id": "c5b830bb-2268-4af3-ba8a-aab0cfb7e90c",
   "metadata": {},
   "outputs": [
    {
     "data": {
      "text/plain": [
       "21         1\n",
       "11         1\n",
       "10         4\n",
       "9          1\n",
       "8          2\n",
       "7          4\n",
       "6          1\n",
       "5         10\n",
       "4         22\n",
       "3         34\n",
       "2        267\n",
       "1     114959\n",
       "Name: comment, dtype: int64"
      ]
     },
     "execution_count": 18,
     "metadata": {},
     "output_type": "execute_result"
    }
   ],
   "source": [
    "# review the number of different comments for each frequency of comments\n",
    "aggression_df['comment'].value_counts().value_counts().sort_index(ascending=False)"
   ]
  },
  {
   "cell_type": "markdown",
   "id": "05168ca5-b587-4729-b587-c14e4e2d3ad1",
   "metadata": {},
   "source": [
    "It looks as though most of these comments are automated messages, and therefore should not be considered a valid observation in our dataset."
   ]
  },
  {
   "cell_type": "code",
   "execution_count": 19,
   "id": "c54628ba-b9c9-4b7d-a4f4-857baab0c2ad",
   "metadata": {},
   "outputs": [],
   "source": [
    "# create a list of the duplicate comments that are found more than two times\n",
    "invalid_comment_list = aggression_df['comment'].value_counts().sort_values(ascending=False)[:80]"
   ]
  },
  {
   "cell_type": "code",
   "execution_count": 20,
   "id": "54b39f3b-8277-4392-ad1a-a91dca279e6a",
   "metadata": {},
   "outputs": [
    {
     "data": {
      "text/plain": [
       "(115864, 10)"
      ]
     },
     "execution_count": 20,
     "metadata": {},
     "output_type": "execute_result"
    }
   ],
   "source": [
    "aggression_df.shape"
   ]
  },
  {
   "cell_type": "code",
   "execution_count": 21,
   "id": "319bd8a2-4d0e-4100-b3b1-84926c9ae4d3",
   "metadata": {},
   "outputs": [],
   "source": [
    "# create a function that removes rows with the invalid comments above\n",
    "drop_list=[]\n",
    "def drop_invalid_rows(series):\n",
    "    for i in range(len(series)):\n",
    "        if series[i] in invalid_comment_list:\n",
    "            drop_list.append(i)\n",
    "    aggression_df.drop(drop_list, inplace=True)\n",
    "    aggression_df.reset_index(drop=True, inplace=True)\n",
    "    print(f'Dropped {len(drop_list)} rows.')\n",
    "    print(f'There are {aggression_df.shape[0]} rows remaining.')\n",
    "    return"
   ]
  },
  {
   "cell_type": "code",
   "execution_count": 22,
   "id": "5de0bff1-8085-4708-90c5-f5465e5f1b7a",
   "metadata": {},
   "outputs": [
    {
     "name": "stdout",
     "output_type": "stream",
     "text": [
      "Dropped 371 rows.\n",
      "There are 115493 rows remaining.\n"
     ]
    }
   ],
   "source": [
    "# run the function on comments\n",
    "drop_invalid_rows(aggression_df['comment'])"
   ]
  },
  {
   "cell_type": "code",
   "execution_count": 23,
   "id": "4ff89bd0-1fde-481f-9afb-340bfefec4f8",
   "metadata": {},
   "outputs": [],
   "source": [
    "# save the cleaned dataset as CSV\n",
    "aggression_df.to_csv('../data/aggression_clean_data.csv', index=False)"
   ]
  },
  {
   "cell_type": "code",
   "execution_count": 24,
   "id": "01a69e83-f412-48a8-9a39-86464a9ed50a",
   "metadata": {},
   "outputs": [],
   "source": [
    "# create dataframes splitting the aggressive and non-aggressive comments\n",
    "comments_aggressive = aggression_df[aggression_df['label']==1]['comment']\n",
    "comments_nonaggressive = aggression_df[aggression_df['label']==0]['comment']"
   ]
  },
  {
   "cell_type": "code",
   "execution_count": 25,
   "id": "30bed725-a2ef-4001-8735-66b65efa2565",
   "metadata": {},
   "outputs": [],
   "source": [
    "# Instantiate CountVectorizer with stopwords, token_patterns, and strip non-English texts\n",
    "cvec = CountVectorizer(stop_words = 'english', token_pattern = r'\\w+|[A-Z]\\w+', strip_accents = 'ascii')"
   ]
  },
  {
   "cell_type": "code",
   "execution_count": 26,
   "id": "3fc6d820-8318-4583-b9fc-6d01100d5d6a",
   "metadata": {},
   "outputs": [],
   "source": [
    "# Fit and transform the aggressive text\n",
    "comments_aggressive = cvec.fit_transform(comments_aggressive)"
   ]
  },
  {
   "cell_type": "code",
   "execution_count": 27,
   "id": "49fb9a63-af61-49b2-bb43-ac4abbdb6df2",
   "metadata": {},
   "outputs": [],
   "source": [
    "# convert aggressive Count-Vectorized text to dataframe\n",
    "comments_aggressive_df = pd.DataFrame(comments_aggressive.todense(),\n",
    "                         columns=cvec.get_feature_names())"
   ]
  },
  {
   "cell_type": "code",
   "execution_count": 28,
   "id": "994d28ca-b228-469a-90d9-cff4f214523b",
   "metadata": {},
   "outputs": [
    {
     "data": {
      "text/html": [
       "<div>\n",
       "<style scoped>\n",
       "    .dataframe tbody tr th:only-of-type {\n",
       "        vertical-align: middle;\n",
       "    }\n",
       "\n",
       "    .dataframe tbody tr th {\n",
       "        vertical-align: top;\n",
       "    }\n",
       "\n",
       "    .dataframe thead th {\n",
       "        text-align: right;\n",
       "    }\n",
       "</style>\n",
       "<table border=\"1\" class=\"dataframe\">\n",
       "  <thead>\n",
       "    <tr style=\"text-align: right;\">\n",
       "      <th></th>\n",
       "      <th>0</th>\n",
       "      <th>00</th>\n",
       "      <th>000</th>\n",
       "      <th>00000000</th>\n",
       "      <th>000000001</th>\n",
       "      <th>0003</th>\n",
       "      <th>001</th>\n",
       "      <th>0019</th>\n",
       "      <th>0025</th>\n",
       "      <th>0036</th>\n",
       "      <th>...</th>\n",
       "      <th>zut</th>\n",
       "      <th>zviadist</th>\n",
       "      <th>zwecke</th>\n",
       "      <th>zweifelsfall</th>\n",
       "      <th>zweifelsfalle</th>\n",
       "      <th>zwischen</th>\n",
       "      <th>zyklon</th>\n",
       "      <th>zyzzyxrd</th>\n",
       "      <th>zzuuzz</th>\n",
       "      <th>zzzz</th>\n",
       "    </tr>\n",
       "  </thead>\n",
       "  <tbody>\n",
       "    <tr>\n",
       "      <th>0</th>\n",
       "      <td>0</td>\n",
       "      <td>0</td>\n",
       "      <td>0</td>\n",
       "      <td>0</td>\n",
       "      <td>0</td>\n",
       "      <td>0</td>\n",
       "      <td>0</td>\n",
       "      <td>0</td>\n",
       "      <td>0</td>\n",
       "      <td>0</td>\n",
       "      <td>...</td>\n",
       "      <td>0</td>\n",
       "      <td>0</td>\n",
       "      <td>0</td>\n",
       "      <td>0</td>\n",
       "      <td>0</td>\n",
       "      <td>0</td>\n",
       "      <td>0</td>\n",
       "      <td>0</td>\n",
       "      <td>0</td>\n",
       "      <td>0</td>\n",
       "    </tr>\n",
       "    <tr>\n",
       "      <th>1</th>\n",
       "      <td>0</td>\n",
       "      <td>0</td>\n",
       "      <td>0</td>\n",
       "      <td>0</td>\n",
       "      <td>0</td>\n",
       "      <td>0</td>\n",
       "      <td>0</td>\n",
       "      <td>0</td>\n",
       "      <td>0</td>\n",
       "      <td>0</td>\n",
       "      <td>...</td>\n",
       "      <td>0</td>\n",
       "      <td>0</td>\n",
       "      <td>0</td>\n",
       "      <td>0</td>\n",
       "      <td>0</td>\n",
       "      <td>0</td>\n",
       "      <td>0</td>\n",
       "      <td>0</td>\n",
       "      <td>0</td>\n",
       "      <td>0</td>\n",
       "    </tr>\n",
       "    <tr>\n",
       "      <th>2</th>\n",
       "      <td>0</td>\n",
       "      <td>0</td>\n",
       "      <td>0</td>\n",
       "      <td>0</td>\n",
       "      <td>0</td>\n",
       "      <td>0</td>\n",
       "      <td>0</td>\n",
       "      <td>0</td>\n",
       "      <td>0</td>\n",
       "      <td>0</td>\n",
       "      <td>...</td>\n",
       "      <td>0</td>\n",
       "      <td>0</td>\n",
       "      <td>0</td>\n",
       "      <td>0</td>\n",
       "      <td>0</td>\n",
       "      <td>0</td>\n",
       "      <td>0</td>\n",
       "      <td>0</td>\n",
       "      <td>0</td>\n",
       "      <td>0</td>\n",
       "    </tr>\n",
       "    <tr>\n",
       "      <th>3</th>\n",
       "      <td>0</td>\n",
       "      <td>0</td>\n",
       "      <td>0</td>\n",
       "      <td>0</td>\n",
       "      <td>0</td>\n",
       "      <td>0</td>\n",
       "      <td>0</td>\n",
       "      <td>0</td>\n",
       "      <td>0</td>\n",
       "      <td>0</td>\n",
       "      <td>...</td>\n",
       "      <td>0</td>\n",
       "      <td>0</td>\n",
       "      <td>0</td>\n",
       "      <td>0</td>\n",
       "      <td>0</td>\n",
       "      <td>0</td>\n",
       "      <td>0</td>\n",
       "      <td>0</td>\n",
       "      <td>0</td>\n",
       "      <td>0</td>\n",
       "    </tr>\n",
       "    <tr>\n",
       "      <th>4</th>\n",
       "      <td>0</td>\n",
       "      <td>0</td>\n",
       "      <td>0</td>\n",
       "      <td>0</td>\n",
       "      <td>0</td>\n",
       "      <td>0</td>\n",
       "      <td>0</td>\n",
       "      <td>0</td>\n",
       "      <td>0</td>\n",
       "      <td>0</td>\n",
       "      <td>...</td>\n",
       "      <td>0</td>\n",
       "      <td>0</td>\n",
       "      <td>0</td>\n",
       "      <td>0</td>\n",
       "      <td>0</td>\n",
       "      <td>0</td>\n",
       "      <td>0</td>\n",
       "      <td>0</td>\n",
       "      <td>0</td>\n",
       "      <td>0</td>\n",
       "    </tr>\n",
       "  </tbody>\n",
       "</table>\n",
       "<p>5 rows × 48175 columns</p>\n",
       "</div>"
      ],
      "text/plain": [
       "   0  00  000  00000000  000000001  0003  001  0019  0025  0036  ...  zut  \\\n",
       "0  0   0    0         0          0     0    0     0     0     0  ...    0   \n",
       "1  0   0    0         0          0     0    0     0     0     0  ...    0   \n",
       "2  0   0    0         0          0     0    0     0     0     0  ...    0   \n",
       "3  0   0    0         0          0     0    0     0     0     0  ...    0   \n",
       "4  0   0    0         0          0     0    0     0     0     0  ...    0   \n",
       "\n",
       "   zviadist  zwecke  zweifelsfall  zweifelsfalle  zwischen  zyklon  zyzzyxrd  \\\n",
       "0         0       0             0              0         0       0         0   \n",
       "1         0       0             0              0         0       0         0   \n",
       "2         0       0             0              0         0       0         0   \n",
       "3         0       0             0              0         0       0         0   \n",
       "4         0       0             0              0         0       0         0   \n",
       "\n",
       "   zzuuzz  zzzz  \n",
       "0       0     0  \n",
       "1       0     0  \n",
       "2       0     0  \n",
       "3       0     0  \n",
       "4       0     0  \n",
       "\n",
       "[5 rows x 48175 columns]"
      ]
     },
     "execution_count": 28,
     "metadata": {},
     "output_type": "execute_result"
    }
   ],
   "source": [
    "comments_aggressive_df.head()"
   ]
  },
  {
   "cell_type": "code",
   "execution_count": 29,
   "id": "0ba10172-94cb-413d-ae40-d66c45c12a75",
   "metadata": {},
   "outputs": [
    {
     "data": {
      "text/plain": [
       "(17000, 48175)"
      ]
     },
     "execution_count": 29,
     "metadata": {},
     "output_type": "execute_result"
    }
   ],
   "source": [
    "comments_aggressive_df.shape"
   ]
  },
  {
   "cell_type": "code",
   "execution_count": 30,
   "id": "c00e0eee-0af0-4865-a4ea-6ef667c96b57",
   "metadata": {},
   "outputs": [
    {
     "data": {
      "image/png": "[encoded data removed]",
      "text/plain": [
       "<Figure size 720x432 with 1 Axes>"
      ]
     },
     "metadata": {
      "needs_background": "light"
     },
     "output_type": "display_data"
    }
   ],
   "source": [
    "# Plot 20 top words in aggressive comments\n",
    "plt.figure(figsize=(10,6))\n",
    "comments_aggressive_df.sum().sort_values(ascending=True).tail(20).plot(kind='barh', cmap='Pastel1')\n",
    "plt.xlabel('Count')\n",
    "plt.ylabel('Words')\n",
    "plt.title('20 Top Words in Aggressive Comments');"
   ]
  },
  {
   "cell_type": "code",
   "execution_count": 31,
   "id": "7f92d225-798c-4fba-814b-10f398bcdd3b",
   "metadata": {},
   "outputs": [
    {
     "data": {
      "text/plain": [
       "207     fuck off you little asshole If you want to tal...\n",
       "492      renault you sad little bpy for driving a rena...\n",
       "696      GOD DAMN GOD DAMN it fuckers i am using the G...\n",
       "769      WHY ARE YOU SUCH A GAY NIGGER GOD DAMNDD YOU ...\n",
       "798      whoa you are a big fat idot stop spamming my ...\n",
       "894     LOL charles you are a real fag arent you sidin...\n",
       "895     WOW MIRV IS TEH protect THIS PAEGLOL CHARLESMI...\n",
       "1003    Yeah what the fuck is this Get your lazy commi...\n",
       "1004    FUCK YOU ALKIVA wikipedia is a democracy a wor...\n",
       "1020               Can I EyeFUCK YOU YOU NEGRO SEE GROW  \n",
       "Name: comment, dtype: object"
      ]
     },
     "execution_count": 31,
     "metadata": {},
     "output_type": "execute_result"
    }
   ],
   "source": [
    "# review the most aggressive comments\n",
    "aggression_df[aggression_df['aggression'] == 1]['comment'][:10]"
   ]
  },
  {
   "cell_type": "code",
   "execution_count": 32,
   "id": "94db29e1-75ac-46ea-a4f3-2b1574331a41",
   "metadata": {},
   "outputs": [
    {
     "data": {
      "text/plain": [
       "1      the term standard model is itself less NPOV t...\n",
       "2     True or false the situation as of March 2002 w...\n",
       "4                   This page will need disambiguation \n",
       "5     Important note for all sysops There is a bug i...\n",
       "6     I removed the followingAll names of early Poli...\n",
       "8     My apologies  Im English I watch cricket I kno...\n",
       "10    Correct Full biographical details will put dow...\n",
       "11    Care should be taken to distinguish when and i...\n",
       "13    On my  you will find the apology that I owe yo...\n",
       "14    I fail to see the distinction  Who better than...\n",
       "Name: comment, dtype: object"
      ]
     },
     "execution_count": 32,
     "metadata": {},
     "output_type": "execute_result"
    }
   ],
   "source": [
    "# review the most neutral/positive comments\n",
    "aggression_df[aggression_df['aggression'] == 0]['comment'][:10]"
   ]
  },
  {
   "cell_type": "code",
   "execution_count": 33,
   "id": "f95a3c95-ce37-477b-b3d1-877208fd5949",
   "metadata": {},
   "outputs": [
    {
     "data": {
      "image/png": "[encoded data removed]",
      "text/plain": [
       "<Figure size 432x288 with 1 Axes>"
      ]
     },
     "metadata": {
      "needs_background": "light"
     },
     "output_type": "display_data"
    }
   ],
   "source": [
    "# view the distribution of average aggression labels on each comment\n",
    "plt.hist(aggression_df['aggression']);"
   ]
  },
  {
   "cell_type": "code",
   "execution_count": 34,
   "id": "44e7694b-581b-4d16-8ed1-73ccf633881a",
   "metadata": {},
   "outputs": [],
   "source": [
    "# Fit and transform the non-aggressive text\n",
    "comments_nonaggressive = cvec.fit_transform(comments_nonaggressive)"
   ]
  },
  {
   "cell_type": "code",
   "execution_count": 35,
   "id": "dbf6b4a0-c811-4a5d-b4c9-2478f5ade182",
   "metadata": {},
   "outputs": [],
   "source": [
    "# convert non-aggressive Count-Vectorized text to dataframe\n",
    "comments_nonaggressive_df = pd.DataFrame(comments_nonaggressive.todense(),\n",
    "                         columns=cvec.get_feature_names())"
   ]
  },
  {
   "cell_type": "code",
   "execution_count": 36,
   "id": "0a297517-77d3-4ab2-80aa-352f2ae173b5",
   "metadata": {},
   "outputs": [
    {
     "data": {
      "text/html": [
       "<div>\n",
       "<style scoped>\n",
       "    .dataframe tbody tr th:only-of-type {\n",
       "        vertical-align: middle;\n",
       "    }\n",
       "\n",
       "    .dataframe tbody tr th {\n",
       "        vertical-align: top;\n",
       "    }\n",
       "\n",
       "    .dataframe thead th {\n",
       "        text-align: right;\n",
       "    }\n",
       "</style>\n",
       "<table border=\"1\" class=\"dataframe\">\n",
       "  <thead>\n",
       "    <tr style=\"text-align: right;\">\n",
       "      <th></th>\n",
       "      <th>0</th>\n",
       "      <th>00</th>\n",
       "      <th>000</th>\n",
       "      <th>0000</th>\n",
       "      <th>000000</th>\n",
       "      <th>00000000027</th>\n",
       "      <th>00000035</th>\n",
       "      <th>000000rowspan2</th>\n",
       "      <th>000010</th>\n",
       "      <th>000012</th>\n",
       "      <th>...</th>\n",
       "      <th>zzyzwicz</th>\n",
       "      <th>zzz</th>\n",
       "      <th>zzzmidnights</th>\n",
       "      <th>zzzzall</th>\n",
       "      <th>zzzzz</th>\n",
       "      <th>zzzzzzus</th>\n",
       "      <th>zzzzzzzzzzzzzzz</th>\n",
       "      <th>zzzzzzzzzzzzzzzzz</th>\n",
       "      <th>zzzzzzzzzzzzzzzzzzzzzzzzzzzzzz</th>\n",
       "      <th>zzzzzzzzzzzzzzzzzzzzzzzzzzzzzzzzzzzzzzzzzzzzzzzzzzzzzzzzzzzzzzzzzzzzzzzzzzzzzzzzzzzzzzzzzzzzzzzzzzzzzzzzzzzzzzzzzzzzzzzzzzzzzzzzzzzzzzzzzzzzzzzzzzzzzz</th>\n",
       "    </tr>\n",
       "  </thead>\n",
       "  <tbody>\n",
       "    <tr>\n",
       "      <th>0</th>\n",
       "      <td>0</td>\n",
       "      <td>0</td>\n",
       "      <td>0</td>\n",
       "      <td>0</td>\n",
       "      <td>0</td>\n",
       "      <td>0</td>\n",
       "      <td>0</td>\n",
       "      <td>0</td>\n",
       "      <td>0</td>\n",
       "      <td>0</td>\n",
       "      <td>...</td>\n",
       "      <td>0</td>\n",
       "      <td>0</td>\n",
       "      <td>0</td>\n",
       "      <td>0</td>\n",
       "      <td>0</td>\n",
       "      <td>0</td>\n",
       "      <td>0</td>\n",
       "      <td>0</td>\n",
       "      <td>0</td>\n",
       "      <td>0</td>\n",
       "    </tr>\n",
       "    <tr>\n",
       "      <th>1</th>\n",
       "      <td>0</td>\n",
       "      <td>0</td>\n",
       "      <td>0</td>\n",
       "      <td>0</td>\n",
       "      <td>0</td>\n",
       "      <td>0</td>\n",
       "      <td>0</td>\n",
       "      <td>0</td>\n",
       "      <td>0</td>\n",
       "      <td>0</td>\n",
       "      <td>...</td>\n",
       "      <td>0</td>\n",
       "      <td>0</td>\n",
       "      <td>0</td>\n",
       "      <td>0</td>\n",
       "      <td>0</td>\n",
       "      <td>0</td>\n",
       "      <td>0</td>\n",
       "      <td>0</td>\n",
       "      <td>0</td>\n",
       "      <td>0</td>\n",
       "    </tr>\n",
       "    <tr>\n",
       "      <th>2</th>\n",
       "      <td>0</td>\n",
       "      <td>0</td>\n",
       "      <td>0</td>\n",
       "      <td>0</td>\n",
       "      <td>0</td>\n",
       "      <td>0</td>\n",
       "      <td>0</td>\n",
       "      <td>0</td>\n",
       "      <td>0</td>\n",
       "      <td>0</td>\n",
       "      <td>...</td>\n",
       "      <td>0</td>\n",
       "      <td>0</td>\n",
       "      <td>0</td>\n",
       "      <td>0</td>\n",
       "      <td>0</td>\n",
       "      <td>0</td>\n",
       "      <td>0</td>\n",
       "      <td>0</td>\n",
       "      <td>0</td>\n",
       "      <td>0</td>\n",
       "    </tr>\n",
       "    <tr>\n",
       "      <th>3</th>\n",
       "      <td>0</td>\n",
       "      <td>0</td>\n",
       "      <td>0</td>\n",
       "      <td>0</td>\n",
       "      <td>0</td>\n",
       "      <td>0</td>\n",
       "      <td>0</td>\n",
       "      <td>0</td>\n",
       "      <td>0</td>\n",
       "      <td>0</td>\n",
       "      <td>...</td>\n",
       "      <td>0</td>\n",
       "      <td>0</td>\n",
       "      <td>0</td>\n",
       "      <td>0</td>\n",
       "      <td>0</td>\n",
       "      <td>0</td>\n",
       "      <td>0</td>\n",
       "      <td>0</td>\n",
       "      <td>0</td>\n",
       "      <td>0</td>\n",
       "    </tr>\n",
       "    <tr>\n",
       "      <th>4</th>\n",
       "      <td>0</td>\n",
       "      <td>0</td>\n",
       "      <td>0</td>\n",
       "      <td>0</td>\n",
       "      <td>0</td>\n",
       "      <td>0</td>\n",
       "      <td>0</td>\n",
       "      <td>0</td>\n",
       "      <td>0</td>\n",
       "      <td>0</td>\n",
       "      <td>...</td>\n",
       "      <td>0</td>\n",
       "      <td>0</td>\n",
       "      <td>0</td>\n",
       "      <td>0</td>\n",
       "      <td>0</td>\n",
       "      <td>0</td>\n",
       "      <td>0</td>\n",
       "      <td>0</td>\n",
       "      <td>0</td>\n",
       "      <td>0</td>\n",
       "    </tr>\n",
       "  </tbody>\n",
       "</table>\n",
       "<p>5 rows × 215801 columns</p>\n",
       "</div>"
      ],
      "text/plain": [
       "   0  00  000  0000  000000  00000000027  00000035  000000rowspan2  000010  \\\n",
       "0  0   0    0     0       0            0         0               0       0   \n",
       "1  0   0    0     0       0            0         0               0       0   \n",
       "2  0   0    0     0       0            0         0               0       0   \n",
       "3  0   0    0     0       0            0         0               0       0   \n",
       "4  0   0    0     0       0            0         0               0       0   \n",
       "\n",
       "   000012  ...  zzyzwicz  zzz  zzzmidnights  zzzzall  zzzzz  zzzzzzus  \\\n",
       "0       0  ...         0    0             0        0      0         0   \n",
       "1       0  ...         0    0             0        0      0         0   \n",
       "2       0  ...         0    0             0        0      0         0   \n",
       "3       0  ...         0    0             0        0      0         0   \n",
       "4       0  ...         0    0             0        0      0         0   \n",
       "\n",
       "   zzzzzzzzzzzzzzz  zzzzzzzzzzzzzzzzz  zzzzzzzzzzzzzzzzzzzzzzzzzzzzzz  \\\n",
       "0                0                  0                               0   \n",
       "1                0                  0                               0   \n",
       "2                0                  0                               0   \n",
       "3                0                  0                               0   \n",
       "4                0                  0                               0   \n",
       "\n",
       "   zzzzzzzzzzzzzzzzzzzzzzzzzzzzzzzzzzzzzzzzzzzzzzzzzzzzzzzzzzzzzzzzzzzzzzzzzzzzzzzzzzzzzzzzzzzzzzzzzzzzzzzzzzzzzzzzzzzzzzzzzzzzzzzzzzzzzzzzzzzzzzzzzzzzzz  \n",
       "0                                                  0                                                                                                       \n",
       "1                                                  0                                                                                                       \n",
       "2                                                  0                                                                                                       \n",
       "3                                                  0                                                                                                       \n",
       "4                                                  0                                                                                                       \n",
       "\n",
       "[5 rows x 215801 columns]"
      ]
     },
     "execution_count": 36,
     "metadata": {},
     "output_type": "execute_result"
    }
   ],
   "source": [
    "comments_nonaggressive_df.head()"
   ]
  },
  {
   "cell_type": "code",
   "execution_count": 37,
   "id": "fa6a204a-3d73-4c73-9e9a-1c2efb2329a3",
   "metadata": {},
   "outputs": [
    {
     "data": {
      "text/plain": [
       "(98493, 215801)"
      ]
     },
     "execution_count": 37,
     "metadata": {},
     "output_type": "execute_result"
    }
   ],
   "source": [
    "comments_nonaggressive_df.shape"
   ]
  },
  {
   "cell_type": "code",
   "execution_count": 39,
   "id": "35a991d7-d630-4e9e-84b3-02069e448b34",
   "metadata": {},
   "outputs": [],
   "source": [
    "# Instantiate CountVectorizer adding min_df\n",
    "cvec_2 = CountVectorizer(stop_words = 'english', token_pattern = r'\\w+|[A-Z]\\w+', strip_accents = 'ascii', min_df=2)"
   ]
  },
  {
   "cell_type": "code",
   "execution_count": 41,
   "id": "83a452a1-5ede-4e4e-b609-11dd4ee2bc24",
   "metadata": {},
   "outputs": [],
   "source": [
    "# Fit and transform the aggressive text\n",
    "comments_aggressive = aggression_df[aggression_df['label']==1]['comment']\n",
    "comments_aggressive = cvec_2.fit_transform(comments_aggressive)"
   ]
  },
  {
   "cell_type": "code",
   "execution_count": 43,
   "id": "3201461c-1801-45c2-a1f9-24e2571484a9",
   "metadata": {},
   "outputs": [
    {
     "data": {
      "text/html": [
       "<div>\n",
       "<style scoped>\n",
       "    .dataframe tbody tr th:only-of-type {\n",
       "        vertical-align: middle;\n",
       "    }\n",
       "\n",
       "    .dataframe tbody tr th {\n",
       "        vertical-align: top;\n",
       "    }\n",
       "\n",
       "    .dataframe thead th {\n",
       "        text-align: right;\n",
       "    }\n",
       "</style>\n",
       "<table border=\"1\" class=\"dataframe\">\n",
       "  <thead>\n",
       "    <tr style=\"text-align: right;\">\n",
       "      <th></th>\n",
       "      <th>0</th>\n",
       "      <th>000</th>\n",
       "      <th>0003</th>\n",
       "      <th>01</th>\n",
       "      <th>01082006</th>\n",
       "      <th>01em</th>\n",
       "      <th>021506</th>\n",
       "      <th>02152007</th>\n",
       "      <th>02172006</th>\n",
       "      <th>02222007</th>\n",
       "      <th>...</th>\n",
       "      <th>zomfg</th>\n",
       "      <th>zomg</th>\n",
       "      <th>zone</th>\n",
       "      <th>zoo</th>\n",
       "      <th>zoom</th>\n",
       "      <th>zorzi</th>\n",
       "      <th>zu</th>\n",
       "      <th>zuckerberg</th>\n",
       "      <th>zuma</th>\n",
       "      <th>zurich</th>\n",
       "    </tr>\n",
       "  </thead>\n",
       "  <tbody>\n",
       "    <tr>\n",
       "      <th>0</th>\n",
       "      <td>0</td>\n",
       "      <td>0</td>\n",
       "      <td>0</td>\n",
       "      <td>0</td>\n",
       "      <td>0</td>\n",
       "      <td>0</td>\n",
       "      <td>0</td>\n",
       "      <td>0</td>\n",
       "      <td>0</td>\n",
       "      <td>0</td>\n",
       "      <td>...</td>\n",
       "      <td>0</td>\n",
       "      <td>0</td>\n",
       "      <td>0</td>\n",
       "      <td>0</td>\n",
       "      <td>0</td>\n",
       "      <td>0</td>\n",
       "      <td>0</td>\n",
       "      <td>0</td>\n",
       "      <td>0</td>\n",
       "      <td>0</td>\n",
       "    </tr>\n",
       "    <tr>\n",
       "      <th>1</th>\n",
       "      <td>0</td>\n",
       "      <td>0</td>\n",
       "      <td>0</td>\n",
       "      <td>0</td>\n",
       "      <td>0</td>\n",
       "      <td>0</td>\n",
       "      <td>0</td>\n",
       "      <td>0</td>\n",
       "      <td>0</td>\n",
       "      <td>0</td>\n",
       "      <td>...</td>\n",
       "      <td>0</td>\n",
       "      <td>0</td>\n",
       "      <td>0</td>\n",
       "      <td>0</td>\n",
       "      <td>0</td>\n",
       "      <td>0</td>\n",
       "      <td>0</td>\n",
       "      <td>0</td>\n",
       "      <td>0</td>\n",
       "      <td>0</td>\n",
       "    </tr>\n",
       "    <tr>\n",
       "      <th>2</th>\n",
       "      <td>0</td>\n",
       "      <td>0</td>\n",
       "      <td>0</td>\n",
       "      <td>0</td>\n",
       "      <td>0</td>\n",
       "      <td>0</td>\n",
       "      <td>0</td>\n",
       "      <td>0</td>\n",
       "      <td>0</td>\n",
       "      <td>0</td>\n",
       "      <td>...</td>\n",
       "      <td>0</td>\n",
       "      <td>0</td>\n",
       "      <td>0</td>\n",
       "      <td>0</td>\n",
       "      <td>0</td>\n",
       "      <td>0</td>\n",
       "      <td>0</td>\n",
       "      <td>0</td>\n",
       "      <td>0</td>\n",
       "      <td>0</td>\n",
       "    </tr>\n",
       "    <tr>\n",
       "      <th>3</th>\n",
       "      <td>0</td>\n",
       "      <td>0</td>\n",
       "      <td>0</td>\n",
       "      <td>0</td>\n",
       "      <td>0</td>\n",
       "      <td>0</td>\n",
       "      <td>0</td>\n",
       "      <td>0</td>\n",
       "      <td>0</td>\n",
       "      <td>0</td>\n",
       "      <td>...</td>\n",
       "      <td>0</td>\n",
       "      <td>0</td>\n",
       "      <td>0</td>\n",
       "      <td>0</td>\n",
       "      <td>0</td>\n",
       "      <td>0</td>\n",
       "      <td>0</td>\n",
       "      <td>0</td>\n",
       "      <td>0</td>\n",
       "      <td>0</td>\n",
       "    </tr>\n",
       "    <tr>\n",
       "      <th>4</th>\n",
       "      <td>0</td>\n",
       "      <td>0</td>\n",
       "      <td>0</td>\n",
       "      <td>0</td>\n",
       "      <td>0</td>\n",
       "      <td>0</td>\n",
       "      <td>0</td>\n",
       "      <td>0</td>\n",
       "      <td>0</td>\n",
       "      <td>0</td>\n",
       "      <td>...</td>\n",
       "      <td>0</td>\n",
       "      <td>0</td>\n",
       "      <td>0</td>\n",
       "      <td>0</td>\n",
       "      <td>0</td>\n",
       "      <td>0</td>\n",
       "      <td>0</td>\n",
       "      <td>0</td>\n",
       "      <td>0</td>\n",
       "      <td>0</td>\n",
       "    </tr>\n",
       "  </tbody>\n",
       "</table>\n",
       "<p>5 rows × 17923 columns</p>\n",
       "</div>"
      ],
      "text/plain": [
       "   0  000  0003  01  01082006  01em  021506  02152007  02172006  02222007  \\\n",
       "0  0    0     0   0         0     0       0         0         0         0   \n",
       "1  0    0     0   0         0     0       0         0         0         0   \n",
       "2  0    0     0   0         0     0       0         0         0         0   \n",
       "3  0    0     0   0         0     0       0         0         0         0   \n",
       "4  0    0     0   0         0     0       0         0         0         0   \n",
       "\n",
       "   ...  zomfg  zomg  zone  zoo  zoom  zorzi  zu  zuckerberg  zuma  zurich  \n",
       "0  ...      0     0     0    0     0      0   0           0     0       0  \n",
       "1  ...      0     0     0    0     0      0   0           0     0       0  \n",
       "2  ...      0     0     0    0     0      0   0           0     0       0  \n",
       "3  ...      0     0     0    0     0      0   0           0     0       0  \n",
       "4  ...      0     0     0    0     0      0   0           0     0       0  \n",
       "\n",
       "[5 rows x 17923 columns]"
      ]
     },
     "execution_count": 43,
     "metadata": {},
     "output_type": "execute_result"
    }
   ],
   "source": [
    "# convert aggressive Count-Vectorized text to dataframe\n",
    "comments_aggressive_df = pd.DataFrame(comments_aggressive.todense(),\n",
    "                         columns=cvec_2.get_feature_names())\n",
    "comments_aggressive_df.head()"
   ]
  },
  {
   "cell_type": "code",
   "execution_count": 46,
   "id": "3f799749-0bda-4377-8706-48495cd10c51",
   "metadata": {},
   "outputs": [
    {
     "data": {
      "text/plain": [
       "17923"
      ]
     },
     "execution_count": 46,
     "metadata": {},
     "output_type": "execute_result"
    }
   ],
   "source": [
    "# Check number of columns\n",
    "comments_aggressive_df.shape[1]"
   ]
  },
  {
   "cell_type": "code",
   "execution_count": 48,
   "id": "c06d5c62-f68d-475f-bcb0-cdea7b5b8bfa",
   "metadata": {},
   "outputs": [],
   "source": [
    "# Instantiate CountVectorizer adding bigrams\n",
    "cvec_3 = CountVectorizer(stop_words = 'english', token_pattern = r'\\w+|[A-Z]\\w+', strip_accents = 'ascii', min_df=2, ngram_range=(1,2))"
   ]
  },
  {
   "cell_type": "code",
   "execution_count": 49,
   "id": "5e9c3404-e1eb-4c51-a526-e4f8d24a85cc",
   "metadata": {},
   "outputs": [],
   "source": [
    "# Fit and transform the aggressive text\n",
    "comments_aggressive = aggression_df[aggression_df['label']==1]['comment']\n",
    "comments_aggressive = cvec_3.fit_transform(comments_aggressive)"
   ]
  },
  {
   "cell_type": "code",
   "execution_count": 50,
   "id": "bd5f239e-cd0f-4f8a-9a37-206042857a34",
   "metadata": {},
   "outputs": [
    {
     "data": {
      "text/html": [
       "<div>\n",
       "<style scoped>\n",
       "    .dataframe tbody tr th:only-of-type {\n",
       "        vertical-align: middle;\n",
       "    }\n",
       "\n",
       "    .dataframe tbody tr th {\n",
       "        vertical-align: top;\n",
       "    }\n",
       "\n",
       "    .dataframe thead th {\n",
       "        text-align: right;\n",
       "    }\n",
       "</style>\n",
       "<table border=\"1\" class=\"dataframe\">\n",
       "  <thead>\n",
       "    <tr style=\"text-align: right;\">\n",
       "      <th></th>\n",
       "      <th>0</th>\n",
       "      <th>0 3px</th>\n",
       "      <th>0 verticalalign</th>\n",
       "      <th>000</th>\n",
       "      <th>000 red</th>\n",
       "      <th>0003</th>\n",
       "      <th>01</th>\n",
       "      <th>01082006</th>\n",
       "      <th>01082006 30537</th>\n",
       "      <th>01em</th>\n",
       "      <th>...</th>\n",
       "      <th>zorzi sources</th>\n",
       "      <th>zu</th>\n",
       "      <th>zu ihnen</th>\n",
       "      <th>zuckerberg</th>\n",
       "      <th>zuckerberg allegedly</th>\n",
       "      <th>zuckerberg friend</th>\n",
       "      <th>zuma</th>\n",
       "      <th>zuma abused</th>\n",
       "      <th>zuma spending</th>\n",
       "      <th>zurich</th>\n",
       "    </tr>\n",
       "  </thead>\n",
       "  <tbody>\n",
       "    <tr>\n",
       "      <th>0</th>\n",
       "      <td>0</td>\n",
       "      <td>0</td>\n",
       "      <td>0</td>\n",
       "      <td>0</td>\n",
       "      <td>0</td>\n",
       "      <td>0</td>\n",
       "      <td>0</td>\n",
       "      <td>0</td>\n",
       "      <td>0</td>\n",
       "      <td>0</td>\n",
       "      <td>...</td>\n",
       "      <td>0</td>\n",
       "      <td>0</td>\n",
       "      <td>0</td>\n",
       "      <td>0</td>\n",
       "      <td>0</td>\n",
       "      <td>0</td>\n",
       "      <td>0</td>\n",
       "      <td>0</td>\n",
       "      <td>0</td>\n",
       "      <td>0</td>\n",
       "    </tr>\n",
       "    <tr>\n",
       "      <th>1</th>\n",
       "      <td>0</td>\n",
       "      <td>0</td>\n",
       "      <td>0</td>\n",
       "      <td>0</td>\n",
       "      <td>0</td>\n",
       "      <td>0</td>\n",
       "      <td>0</td>\n",
       "      <td>0</td>\n",
       "      <td>0</td>\n",
       "      <td>0</td>\n",
       "      <td>...</td>\n",
       "      <td>0</td>\n",
       "      <td>0</td>\n",
       "      <td>0</td>\n",
       "      <td>0</td>\n",
       "      <td>0</td>\n",
       "      <td>0</td>\n",
       "      <td>0</td>\n",
       "      <td>0</td>\n",
       "      <td>0</td>\n",
       "      <td>0</td>\n",
       "    </tr>\n",
       "    <tr>\n",
       "      <th>2</th>\n",
       "      <td>0</td>\n",
       "      <td>0</td>\n",
       "      <td>0</td>\n",
       "      <td>0</td>\n",
       "      <td>0</td>\n",
       "      <td>0</td>\n",
       "      <td>0</td>\n",
       "      <td>0</td>\n",
       "      <td>0</td>\n",
       "      <td>0</td>\n",
       "      <td>...</td>\n",
       "      <td>0</td>\n",
       "      <td>0</td>\n",
       "      <td>0</td>\n",
       "      <td>0</td>\n",
       "      <td>0</td>\n",
       "      <td>0</td>\n",
       "      <td>0</td>\n",
       "      <td>0</td>\n",
       "      <td>0</td>\n",
       "      <td>0</td>\n",
       "    </tr>\n",
       "    <tr>\n",
       "      <th>3</th>\n",
       "      <td>0</td>\n",
       "      <td>0</td>\n",
       "      <td>0</td>\n",
       "      <td>0</td>\n",
       "      <td>0</td>\n",
       "      <td>0</td>\n",
       "      <td>0</td>\n",
       "      <td>0</td>\n",
       "      <td>0</td>\n",
       "      <td>0</td>\n",
       "      <td>...</td>\n",
       "      <td>0</td>\n",
       "      <td>0</td>\n",
       "      <td>0</td>\n",
       "      <td>0</td>\n",
       "      <td>0</td>\n",
       "      <td>0</td>\n",
       "      <td>0</td>\n",
       "      <td>0</td>\n",
       "      <td>0</td>\n",
       "      <td>0</td>\n",
       "    </tr>\n",
       "    <tr>\n",
       "      <th>4</th>\n",
       "      <td>0</td>\n",
       "      <td>0</td>\n",
       "      <td>0</td>\n",
       "      <td>0</td>\n",
       "      <td>0</td>\n",
       "      <td>0</td>\n",
       "      <td>0</td>\n",
       "      <td>0</td>\n",
       "      <td>0</td>\n",
       "      <td>0</td>\n",
       "      <td>...</td>\n",
       "      <td>0</td>\n",
       "      <td>0</td>\n",
       "      <td>0</td>\n",
       "      <td>0</td>\n",
       "      <td>0</td>\n",
       "      <td>0</td>\n",
       "      <td>0</td>\n",
       "      <td>0</td>\n",
       "      <td>0</td>\n",
       "      <td>0</td>\n",
       "    </tr>\n",
       "  </tbody>\n",
       "</table>\n",
       "<p>5 rows × 55700 columns</p>\n",
       "</div>"
      ],
      "text/plain": [
       "   0  0 3px  0 verticalalign  000  000 red  0003  01  01082006  \\\n",
       "0  0      0                0    0        0     0   0         0   \n",
       "1  0      0                0    0        0     0   0         0   \n",
       "2  0      0                0    0        0     0   0         0   \n",
       "3  0      0                0    0        0     0   0         0   \n",
       "4  0      0                0    0        0     0   0         0   \n",
       "\n",
       "   01082006 30537  01em  ...  zorzi sources  zu  zu ihnen  zuckerberg  \\\n",
       "0               0     0  ...              0   0         0           0   \n",
       "1               0     0  ...              0   0         0           0   \n",
       "2               0     0  ...              0   0         0           0   \n",
       "3               0     0  ...              0   0         0           0   \n",
       "4               0     0  ...              0   0         0           0   \n",
       "\n",
       "   zuckerberg allegedly  zuckerberg friend  zuma  zuma abused  zuma spending  \\\n",
       "0                     0                  0     0            0              0   \n",
       "1                     0                  0     0            0              0   \n",
       "2                     0                  0     0            0              0   \n",
       "3                     0                  0     0            0              0   \n",
       "4                     0                  0     0            0              0   \n",
       "\n",
       "   zurich  \n",
       "0       0  \n",
       "1       0  \n",
       "2       0  \n",
       "3       0  \n",
       "4       0  \n",
       "\n",
       "[5 rows x 55700 columns]"
      ]
     },
     "execution_count": 50,
     "metadata": {},
     "output_type": "execute_result"
    }
   ],
   "source": [
    "# convert aggressive Count-Vectorized text to dataframe\n",
    "comments_aggressive_df = pd.DataFrame(comments_aggressive.todense(),\n",
    "                         columns=cvec_3.get_feature_names())\n",
    "comments_aggressive_df.head()"
   ]
  },
  {
   "cell_type": "code",
   "execution_count": 51,
   "id": "57e385f7-d9e3-42eb-bd3e-68c9df0b5bc2",
   "metadata": {},
   "outputs": [
    {
     "data": {
      "text/plain": [
       "55700"
      ]
     },
     "execution_count": 51,
     "metadata": {},
     "output_type": "execute_result"
    }
   ],
   "source": [
    "# Check number of columns\n",
    "comments_aggressive_df.shape[1]"
   ]
  },
  {
   "cell_type": "code",
   "execution_count": 52,
   "id": "3bdcde34-f47b-42ef-8323-c79f416d32dc",
   "metadata": {},
   "outputs": [
    {
     "data": {
      "image/png": "[encoded data removed]",
      "text/plain": [
       "<Figure size 720x432 with 1 Axes>"
      ]
     },
     "metadata": {
      "needs_background": "light"
     },
     "output_type": "display_data"
    }
   ],
   "source": [
    "# Plot 20 top words in aggressive comments\n",
    "plt.figure(figsize=(10,6))\n",
    "comments_aggressive_df.sum().sort_values(ascending=True).tail(20).plot(kind='barh', cmap='Pastel1')\n",
    "plt.xlabel('Count')\n",
    "plt.ylabel('Words')\n",
    "plt.title('20 Top Words in Aggressive Comments');"
   ]
  },
  {
   "cell_type": "markdown",
   "id": "5695d414-af7f-4fd0-8167-9f129df61f32",
   "metadata": {},
   "source": [
    "The top 20 words did not alter much from setting additional parameters on CountVectorizer."
   ]
  },
  {
   "cell_type": "code",
   "execution_count": null,
   "id": "da234a88-0342-4e53-bb9a-d60e06ab160b",
   "metadata": {},
   "outputs": [],
   "source": []
  }
 ],
 "metadata": {
  "kernelspec": {
   "display_name": "Python 3",
   "language": "python",
   "name": "python3"
  },
  "language_info": {
   "codemirror_mode": {
    "name": "ipython",
    "version": 3
   },
   "file_extension": ".py",
   "mimetype": "text/x-python",
   "name": "python",
   "nbconvert_exporter": "python",
   "pygments_lexer": "ipython3",
   "version": "3.8.8"
  }
 },
 "nbformat": 4,
 "nbformat_minor": 5
}
